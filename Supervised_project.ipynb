{
 "metadata": {
  "language_info": {
   "codemirror_mode": {
    "name": "ipython",
    "version": 3
   },
   "file_extension": ".py",
   "mimetype": "text/x-python",
   "name": "python",
   "nbconvert_exporter": "python",
   "pygments_lexer": "ipython3",
   "version": 3
  },
  "orig_nbformat": 4
 },
 "nbformat": 4,
 "nbformat_minor": 2,
 "cells": [
  {
   "cell_type": "code",
   "execution_count": null,
   "metadata": {},
   "outputs": [],
   "source": [
    "import numpy as np\n",
    "import pandas as pd\n",
    "import seaborn as sns\n",
    "import matplotlib.pyplot as plt\n",
    "from sklearn.preprocessing import LabelEncoder\n",
    "from sklearn.model_selection import train_test_split\n",
    "from sklearn.preprocessing import StandardScaler\n",
    "from sklearn import metrics\n",
    "from sklearn.linear_model import LogisticRegression"
   ]
  },
  {
   "cell_type": "code",
   "execution_count": null,
   "metadata": {},
   "outputs": [],
   "source": [
    "data = pd.read_csv(\"fraudolent.csv\")\n",
    "print(data.head())"
   ]
  },
  {
   "cell_type": "code",
   "execution_count": null,
   "metadata": {},
   "outputs": [],
   "source": [
    "# There are no missing values\n",
    "print(data.isna().sum())"
   ]
  },
  {
   "cell_type": "code",
   "execution_count": null,
   "metadata": {},
   "outputs": [],
   "source": [
    "# I displayed the type of transactions on a graph, divided by the transactions which are fraduolent and the ones that are not.\n",
    "# It's not so visible, due to the amount of data\n",
    "# However, CASH_OUT and TRANSFER transactions are the ones where fraud is involved.\n",
    "sns.countplot(data=data, x = 'type', hue = 'isFraud', order=data['type'].value_counts().index, linewidth = 2)"
   ]
  },
  {
   "cell_type": "code",
   "execution_count": null,
   "metadata": {},
   "outputs": [],
   "source": [
    "# Focusing on the observations that have been recorded as fraudolent, one can see that the amount of the transaction \n",
    "# does not equal the difference between the new balance destination and the old balance destination\n",
    "isfraud = data[(data['isFraud'] == 1)]\n",
    "print(isfraud.head(10))"
   ]
  },
  {
   "cell_type": "code",
   "execution_count": null,
   "metadata": {},
   "outputs": [],
   "source": [
    "# next I will prepare the dataset for the supervised model\n",
    "# isFraud column is going to be the target of the model\n",
    "# I will select the features I will use to train and test the model: type (on which will require a label encoder), amount, oldbalanceDest, newbalanceDest\n",
    "\n",
    "le = LabelEncoder()\n",
    "data['type'] = le.fit_transform(data['type'])\n",
    "print(data.head())"
   ]
  },
  {
   "cell_type": "code",
   "execution_count": null,
   "metadata": {},
   "outputs": [],
   "source": [
    "data_to_use = data.iloc[:,[1,2,7,8]]\n",
    "data_to_target = data.iloc[:,9]\n",
    "\n",
    "# 75% training set and 25% test set\n",
    "x_train, x_test, y_train, y_test = train_test_split(data_to_use, data_to_target, test_size = 0.25, random_state = 0)"
   ]
  },
  {
   "cell_type": "code",
   "execution_count": null,
   "metadata": {},
   "outputs": [],
   "source": [
    "scaler = StandardScaler()\n",
    "x_train = scaler.fit_transform(x_train) # Scaling  training set\n",
    "x_test = scaler.transform(x_test) # Scaling test set"
   ]
  },
  {
   "cell_type": "code",
   "execution_count": null,
   "metadata": {},
   "outputs": [],
   "source": [
    "# I choosed the logistic regression beacuse this model has a binary output, therefore I'm classifing a transaction as fraudolent or not\n",
    "\n",
    "logisticRegression_model = LogisticRegression(random_state=0) # Logistic Regression model\n",
    "logisticRegression_model.fit(x_train, y_train) # Training the model\n",
    "prediction = logisticRegression_model.predict(x_test) # Predict the response\n",
    "\n",
    "# 99%\n",
    "print(\"Accuracy: \", metrics.accuracy_score(y_test, prediction))"
   ]
  }
 ]
}